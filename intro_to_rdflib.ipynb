{
 "metadata": {
  "name": "",
  "signature": "sha256:af8efb62f5f91ce9b70f5cdcfb12a15aafacae06ef8143f28c1d46103d8634fa"
 },
 "nbformat": 3,
 "nbformat_minor": 0,
 "worksheets": [
  {
   "cells": [
    {
     "cell_type": "code",
     "collapsed": false,
     "input": [
      "import rdflib\n",
      "from rdflib import Graph, Literal, URIRef, Namespace\n",
      "from rdflib.namespace import RDF, RDFS\n",
      "from pprint import pprint"
     ],
     "language": "python",
     "metadata": {},
     "outputs": [],
     "prompt_number": 103
    },
    {
     "cell_type": "code",
     "collapsed": false,
     "input": [
      "g = Graph()\n",
      "print(repr(g))\n",
      "print(g)"
     ],
     "language": "python",
     "metadata": {},
     "outputs": [
      {
       "output_type": "stream",
       "stream": "stdout",
       "text": [
        "<Graph identifier=Na5e20181c86e40828f3b506d2115d2a9 (<class 'rdflib.graph.Graph'>)>\n",
        "[a rdfg:Graph;rdflib:storage [a rdflib:Store;rdfs:label 'IOMemory']].\n"
       ]
      }
     ],
     "prompt_number": 90
    },
    {
     "cell_type": "code",
     "collapsed": false,
     "input": [
      "s = Literal(\"the sky\")\n",
      "p = Literal(\"hasColor\")\n",
      "o = Literal(\"blue\")\n",
      "triple = (s,p,o)\n",
      "\n",
      "for element in triple:\n",
      "    print(element)\n",
      "    print(repr(element))\n",
      "    \n",
      "print(triple)\n",
      "print(repr(triple))"
     ],
     "language": "python",
     "metadata": {},
     "outputs": [
      {
       "output_type": "stream",
       "stream": "stdout",
       "text": [
        "the sky\n",
        "rdflib.term.Literal(u'the sky')\n",
        "hasColor\n",
        "rdflib.term.Literal(u'hasColor')\n",
        "blue\n",
        "rdflib.term.Literal(u'blue')\n",
        "(rdflib.term.Literal(u'the sky'), rdflib.term.Literal(u'hasColor'), rdflib.term.Literal(u'blue'))\n",
        "(rdflib.term.Literal(u'the sky'), rdflib.term.Literal(u'hasColor'), rdflib.term.Literal(u'blue'))\n"
       ]
      }
     ],
     "prompt_number": 111
    },
    {
     "cell_type": "code",
     "collapsed": false,
     "input": [
      "g.add(triple)\n",
      "\n",
      "print(g)\n",
      "print(list(g))\n",
      "\n",
      "for func in (g.subjects, g.predicates, g.objects, g.subject_objects, g.subject_predicates, g.predicate_objects):\n",
      "    print(func.__name__)\n",
      "    print(\"   %s\" % list(func()))\n"
     ],
     "language": "python",
     "metadata": {},
     "outputs": [
      {
       "output_type": "stream",
       "stream": "stdout",
       "text": [
        "[a rdfg:Graph;rdflib:storage [a rdflib:Store;rdfs:label 'IOMemory']].\n",
        "[(rdflib.term.Literal(u'the sky'), rdflib.term.Literal(u'hasColor'), rdflib.term.Literal(u'blue'))]\n",
        "subjects\n",
        "   [rdflib.term.Literal(u'the sky')]\n",
        "predicates\n",
        "   [rdflib.term.Literal(u'hasColor')]\n",
        "objects\n",
        "   [rdflib.term.Literal(u'blue')]\n",
        "subject_objects\n",
        "   [(rdflib.term.Literal(u'the sky'), rdflib.term.Literal(u'blue'))]\n",
        "subject_predicates\n",
        "   [(rdflib.term.Literal(u'the sky'), rdflib.term.Literal(u'hasColor'))]\n",
        "predicate_objects\n",
        "   [(rdflib.term.Literal(u'hasColor'), rdflib.term.Literal(u'blue'))]\n"
       ]
      }
     ],
     "prompt_number": 92
    },
    {
     "cell_type": "code",
     "collapsed": false,
     "input": [
      "DBP = Namespace(\"http://dbpedia.org/resource/\")\n",
      "print(DBP)\n",
      "print(repr(DBP))\n",
      "\n",
      "s = DBP['Sky']\n",
      "print(s)\n",
      "print(repr(s))"
     ],
     "language": "python",
     "metadata": {},
     "outputs": [
      {
       "output_type": "stream",
       "stream": "stdout",
       "text": [
        "http://dbpedia.org/resource/\n",
        "Namespace(u'http://dbpedia.org/resource/')\n",
        "http://dbpedia.org/resource/Sky\n",
        "rdflib.term.URIRef(u'http://dbpedia.org/resource/Sky')\n"
       ]
      }
     ],
     "prompt_number": 93
    },
    {
     "cell_type": "code",
     "collapsed": false,
     "input": [
      "g2 = Graph()\n",
      "\n",
      "s = DBP['Sky']\n",
      "p = RDFS['label']\n",
      "o = Literal(\"Sky\")\n",
      "\n",
      "triple = (s,p,o)\n",
      "print(triple)\n",
      "\n",
      "g2.add(triple)\n",
      "print(str(g))\n",
      "print(list(g2))\n",
      "\n",
      "print(g2.serialize(format='turtle'))"
     ],
     "language": "python",
     "metadata": {},
     "outputs": [
      {
       "output_type": "stream",
       "stream": "stdout",
       "text": [
        "(rdflib.term.URIRef(u'http://dbpedia.org/resource/Sky'), rdflib.term.URIRef(u'http://www.w3.org/2000/01/rdf-schema#label'), rdflib.term.Literal(u'Sky'))\n",
        "[a rdfg:Graph;rdflib:storage [a rdflib:Store;rdfs:label 'IOMemory']].\n",
        "[(rdflib.term.URIRef(u'http://dbpedia.org/resource/Sky'), rdflib.term.URIRef(u'http://www.w3.org/2000/01/rdf-schema#label'), rdflib.term.Literal(u'Sky'))]\n",
        "@prefix rdf: <http://www.w3.org/1999/02/22-rdf-syntax-ns#> .\n",
        "@prefix rdfs: <http://www.w3.org/2000/01/rdf-schema#> .\n",
        "@prefix xml: <http://www.w3.org/XML/1998/namespace> .\n",
        "@prefix xsd: <http://www.w3.org/2001/XMLSchema#> .\n",
        "\n",
        "<http://dbpedia.org/resource/Sky> rdfs:label \"Sky\" .\n",
        "\n",
        "\n"
       ]
      }
     ],
     "prompt_number": 94
    },
    {
     "cell_type": "code",
     "collapsed": false,
     "input": [],
     "language": "python",
     "metadata": {},
     "outputs": [],
     "prompt_number": 94
    },
    {
     "cell_type": "code",
     "collapsed": false,
     "input": [
      "\n",
      "pprint( list(g2.namespaces()) )"
     ],
     "language": "python",
     "metadata": {},
     "outputs": [
      {
       "output_type": "stream",
       "stream": "stdout",
       "text": [
        "[('xml', rdflib.term.URIRef(u'http://www.w3.org/XML/1998/namespace')),\n",
        " ('dbp', rdflib.term.URIRef(u'http://dbpedia.org/resource/')),\n",
        " ('rdf', rdflib.term.URIRef(u'http://www.w3.org/1999/02/22-rdf-syntax-ns#')),\n",
        " ('xsd', rdflib.term.URIRef(u'http://www.w3.org/2001/XMLSchema#')),\n",
        " ('rdfs', rdflib.term.URIRef(u'http://www.w3.org/2000/01/rdf-schema#'))]\n"
       ]
      }
     ],
     "prompt_number": 107
    },
    {
     "cell_type": "code",
     "collapsed": false,
     "input": [
      "namespaces = (\n",
      "    ('dbp', DBP),\n",
      ")\n",
      "for prefix, namespace in namespaces:\n",
      "    g2.namespace_manager.bind(prefix, namespace)\n",
      "\n",
      "pprint( list(g2.namespaces()) )"
     ],
     "language": "python",
     "metadata": {},
     "outputs": [
      {
       "output_type": "stream",
       "stream": "stdout",
       "text": [
        "[('xml', rdflib.term.URIRef(u'http://www.w3.org/XML/1998/namespace')),\n",
        " ('dbp', rdflib.term.URIRef(u'http://dbpedia.org/resource/')),\n",
        " ('rdf', rdflib.term.URIRef(u'http://www.w3.org/1999/02/22-rdf-syntax-ns#')),\n",
        " ('xsd', rdflib.term.URIRef(u'http://www.w3.org/2001/XMLSchema#')),\n",
        " ('rdfs', rdflib.term.URIRef(u'http://www.w3.org/2000/01/rdf-schema#'))]\n"
       ]
      }
     ],
     "prompt_number": 110
    },
    {
     "cell_type": "code",
     "collapsed": false,
     "input": [
      "print(g2.serialize(format='turtle'))\n"
     ],
     "language": "python",
     "metadata": {},
     "outputs": [
      {
       "output_type": "stream",
       "stream": "stdout",
       "text": [
        "@prefix dbp: <http://dbpedia.org/resource/> .\n",
        "@prefix rdf: <http://www.w3.org/1999/02/22-rdf-syntax-ns#> .\n",
        "@prefix rdfs: <http://www.w3.org/2000/01/rdf-schema#> .\n",
        "@prefix xml: <http://www.w3.org/XML/1998/namespace> .\n",
        "@prefix xsd: <http://www.w3.org/2001/XMLSchema#> .\n",
        "\n",
        "dbp:Sky rdfs:label \"Sky\" .\n",
        "\n",
        "\n"
       ]
      }
     ],
     "prompt_number": 96
    },
    {
     "cell_type": "code",
     "collapsed": false,
     "input": [
      "print(g2.serialize(format='nt'))"
     ],
     "language": "python",
     "metadata": {},
     "outputs": [
      {
       "output_type": "stream",
       "stream": "stdout",
       "text": [
        "<http://dbpedia.org/resource/Sky> <http://www.w3.org/2000/01/rdf-schema#label> \"Sky\" .\n",
        "\n",
        "\n"
       ]
      }
     ],
     "prompt_number": 102
    },
    {
     "cell_type": "code",
     "collapsed": false,
     "input": [
      "pprint?"
     ],
     "language": "python",
     "metadata": {},
     "outputs": [],
     "prompt_number": 104
    },
    {
     "cell_type": "code",
     "collapsed": false,
     "input": [],
     "language": "python",
     "metadata": {},
     "outputs": []
    }
   ],
   "metadata": {}
  }
 ]
}